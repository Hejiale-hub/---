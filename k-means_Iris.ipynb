{
 "cells": [
  {
   "cell_type": "code",
   "execution_count": 1,
   "id": "96566add-17cf-458e-bfc6-d2b03c44a5b4",
   "metadata": {},
   "outputs": [],
   "source": [
    "import numpy as np\n",
    "import pandas as pd\n",
    "import matplotlib.pyplot as plt\n",
    "from sklearn.cluster import KMeans #k-means聚类函数\n",
    "from sklearn.preprocessing import StandardScaler #标准化数据函数\n",
    "from sklearn.metrics import silhouette_score #轮廓系数函数"
   ]
  },
  {
   "cell_type": "code",
   "execution_count": 2,
   "id": "21dd8537-1119-4355-85b3-dd3696a8ad17",
   "metadata": {},
   "outputs": [
    {
     "data": {
      "text/html": [
       "<div>\n",
       "<style scoped>\n",
       "    .dataframe tbody tr th:only-of-type {\n",
       "        vertical-align: middle;\n",
       "    }\n",
       "\n",
       "    .dataframe tbody tr th {\n",
       "        vertical-align: top;\n",
       "    }\n",
       "\n",
       "    .dataframe thead th {\n",
       "        text-align: right;\n",
       "    }\n",
       "</style>\n",
       "<table border=\"1\" class=\"dataframe\">\n",
       "  <thead>\n",
       "    <tr style=\"text-align: right;\">\n",
       "      <th></th>\n",
       "      <th>Id</th>\n",
       "      <th>SepalLengthCm</th>\n",
       "      <th>SepalWidthCm</th>\n",
       "      <th>PetalLengthCm</th>\n",
       "      <th>PetalWidthCm</th>\n",
       "      <th>Species</th>\n",
       "    </tr>\n",
       "  </thead>\n",
       "  <tbody>\n",
       "    <tr>\n",
       "      <th>0</th>\n",
       "      <td>1</td>\n",
       "      <td>5.1</td>\n",
       "      <td>3.5</td>\n",
       "      <td>1.4</td>\n",
       "      <td>0.2</td>\n",
       "      <td>Iris-setosa</td>\n",
       "    </tr>\n",
       "    <tr>\n",
       "      <th>1</th>\n",
       "      <td>2</td>\n",
       "      <td>4.9</td>\n",
       "      <td>3.0</td>\n",
       "      <td>1.4</td>\n",
       "      <td>0.2</td>\n",
       "      <td>Iris-setosa</td>\n",
       "    </tr>\n",
       "    <tr>\n",
       "      <th>2</th>\n",
       "      <td>3</td>\n",
       "      <td>4.7</td>\n",
       "      <td>3.2</td>\n",
       "      <td>1.3</td>\n",
       "      <td>0.2</td>\n",
       "      <td>Iris-setosa</td>\n",
       "    </tr>\n",
       "    <tr>\n",
       "      <th>3</th>\n",
       "      <td>4</td>\n",
       "      <td>4.6</td>\n",
       "      <td>3.1</td>\n",
       "      <td>1.5</td>\n",
       "      <td>0.2</td>\n",
       "      <td>Iris-setosa</td>\n",
       "    </tr>\n",
       "    <tr>\n",
       "      <th>4</th>\n",
       "      <td>5</td>\n",
       "      <td>5.0</td>\n",
       "      <td>3.6</td>\n",
       "      <td>1.4</td>\n",
       "      <td>0.2</td>\n",
       "      <td>Iris-setosa</td>\n",
       "    </tr>\n",
       "    <tr>\n",
       "      <th>...</th>\n",
       "      <td>...</td>\n",
       "      <td>...</td>\n",
       "      <td>...</td>\n",
       "      <td>...</td>\n",
       "      <td>...</td>\n",
       "      <td>...</td>\n",
       "    </tr>\n",
       "    <tr>\n",
       "      <th>95</th>\n",
       "      <td>96</td>\n",
       "      <td>5.7</td>\n",
       "      <td>3.0</td>\n",
       "      <td>4.2</td>\n",
       "      <td>1.2</td>\n",
       "      <td>Iris-versicolor</td>\n",
       "    </tr>\n",
       "    <tr>\n",
       "      <th>96</th>\n",
       "      <td>97</td>\n",
       "      <td>5.7</td>\n",
       "      <td>2.9</td>\n",
       "      <td>4.2</td>\n",
       "      <td>1.3</td>\n",
       "      <td>Iris-versicolor</td>\n",
       "    </tr>\n",
       "    <tr>\n",
       "      <th>97</th>\n",
       "      <td>98</td>\n",
       "      <td>6.2</td>\n",
       "      <td>2.9</td>\n",
       "      <td>4.3</td>\n",
       "      <td>1.3</td>\n",
       "      <td>Iris-versicolor</td>\n",
       "    </tr>\n",
       "    <tr>\n",
       "      <th>98</th>\n",
       "      <td>99</td>\n",
       "      <td>5.1</td>\n",
       "      <td>2.5</td>\n",
       "      <td>3.0</td>\n",
       "      <td>1.1</td>\n",
       "      <td>Iris-versicolor</td>\n",
       "    </tr>\n",
       "    <tr>\n",
       "      <th>99</th>\n",
       "      <td>100</td>\n",
       "      <td>5.7</td>\n",
       "      <td>2.8</td>\n",
       "      <td>4.1</td>\n",
       "      <td>1.3</td>\n",
       "      <td>Iris-versicolor</td>\n",
       "    </tr>\n",
       "  </tbody>\n",
       "</table>\n",
       "<p>100 rows × 6 columns</p>\n",
       "</div>"
      ],
      "text/plain": [
       "     Id  SepalLengthCm  SepalWidthCm  PetalLengthCm  PetalWidthCm  \\\n",
       "0     1            5.1           3.5            1.4           0.2   \n",
       "1     2            4.9           3.0            1.4           0.2   \n",
       "2     3            4.7           3.2            1.3           0.2   \n",
       "3     4            4.6           3.1            1.5           0.2   \n",
       "4     5            5.0           3.6            1.4           0.2   \n",
       "..  ...            ...           ...            ...           ...   \n",
       "95   96            5.7           3.0            4.2           1.2   \n",
       "96   97            5.7           2.9            4.2           1.3   \n",
       "97   98            6.2           2.9            4.3           1.3   \n",
       "98   99            5.1           2.5            3.0           1.1   \n",
       "99  100            5.7           2.8            4.1           1.3   \n",
       "\n",
       "            Species  \n",
       "0       Iris-setosa  \n",
       "1       Iris-setosa  \n",
       "2       Iris-setosa  \n",
       "3       Iris-setosa  \n",
       "4       Iris-setosa  \n",
       "..              ...  \n",
       "95  Iris-versicolor  \n",
       "96  Iris-versicolor  \n",
       "97  Iris-versicolor  \n",
       "98  Iris-versicolor  \n",
       "99  Iris-versicolor  \n",
       "\n",
       "[100 rows x 6 columns]"
      ]
     },
     "execution_count": 2,
     "metadata": {},
     "output_type": "execute_result"
    }
   ],
   "source": [
    "data_original = pd.read_csv(\"Iris.csv\")\n",
    "data_original"
   ]
  },
  {
   "cell_type": "code",
   "execution_count": 3,
   "id": "86b5f6c6-21fd-463d-979a-27045e36d044",
   "metadata": {},
   "outputs": [],
   "source": [
    "data = data_original[data_original.columns[1:5]]"
   ]
  },
  {
   "cell_type": "code",
   "execution_count": 4,
   "id": "7a703ed8-9123-40f1-b395-a12276d0cb59",
   "metadata": {},
   "outputs": [],
   "source": [
    "scaler = StandardScaler()\n",
    "datax = scaler.fit_transform(data) #将数据标准化"
   ]
  },
  {
   "cell_type": "code",
   "execution_count": 10,
   "id": "0228ed1f-bbf1-4e7d-80fe-bd5f5fd37dcd",
   "metadata": {},
   "outputs": [
    {
     "data": {
      "text/plain": [
       "<function matplotlib.pyplot.show(close=None, block=None)>"
      ]
     },
     "execution_count": 10,
     "metadata": {},
     "output_type": "execute_result"
    },
    {
     "data": {
      "image/png": "[encoded data removed]",
      "text/plain": [
       "<Figure size 640x480 with 1 Axes>"
      ]
     },
     "metadata": {},
     "output_type": "display_data"
    }
   ],
   "source": [
    "see = [] #记录每个k值的误差平方和\n",
    "k_range = range(1,11)\n",
    "for k in k_range:\n",
    "    kmeans = KMeans(n_clusters = k) #构建模型：测试不同k值在kmeans聚类模型中的误差平方和\n",
    "    kmeans.fit(datax) #训练模型：找到簇中心，将数据分配到最近的簇\n",
    "    see.append(kmeans.inertia_) # 提取误差平方和到see变量\n",
    "plt.plot(k_range, see)\n",
    "plt.show"
   ]
  },
  {
   "cell_type": "markdown",
   "id": "ac72b268-3b3d-4277-a023-719122cee48f",
   "metadata": {},
   "source": [
    "观察肘部法则曲线，最佳K值在SSE下降变缓的“拐点” ， 选择k值为2"
   ]
  },
  {
   "cell_type": "code",
   "execution_count": 11,
   "id": "9cc52751-164e-47fd-8fd0-6987aaf50bdc",
   "metadata": {},
   "outputs": [],
   "source": [
    "kmeans = KMeans(n_clusters = 2) \n",
    "kmeans.fit(datax)\n",
    "labels = kmeans.labels_ #提取每个样本的簇标签\n",
    "centers = kmeans.cluster_centers_ #提取每个簇的坐中心标位置（由于是四维数据，因此位置坐标为四维数组）"
   ]
  },
  {
   "cell_type": "code",
   "execution_count": 14,
   "id": "2fbcf660-10f7-42de-bf25-92d3e2c9a03d",
   "metadata": {},
   "outputs": [],
   "source": [
    "from sklearn.decomposition import PCA\n",
    "pca = PCA(n_components = 2) #可视化展示需要将四维数据转换为二维数据，采用主成分分析提取主成分在二维坐标的投影\n",
    "datax_2d = pca.fit_transform(datax)  \n",
    "centers_2d = pca.transform(centers) #注意fit只执行一次，这行的pca只transform复用前面的fit的datax数据以保持一致，否则会导致错误！！"
   ]
  },
  {
   "cell_type": "code",
   "execution_count": 8,
   "id": "1769a204-fcf0-4ba6-8e67-7d3d8dcc3bda",
   "metadata": {},
   "outputs": [
    {
     "data": {
      "image/png": "[encoded data removed]",
      "text/plain": [
       "<Figure size 640x480 with 1 Axes>"
      ]
     },
     "metadata": {},
     "output_type": "display_data"
    }
   ],
   "source": [
    "plt.scatter(datax_2d[:,0], datax_2d[:,1], c=labels, cmap='viridis', alpha=0.6)\n",
    "plt.scatter(centers_2d[:,0], centers_2d[:,1], c=\"red\", marker=\"X\", s=200)\n",
    "plt.show()"
   ]
  },
  {
   "cell_type": "code",
   "execution_count": 16,
   "id": "c9e17c2c-c02f-435d-8ae0-279466f64cd4",
   "metadata": {},
   "outputs": [
    {
     "name": "stdout",
     "output_type": "stream",
     "text": [
      "轮廓系数: 0.63\n"
     ]
    }
   ],
   "source": [
    "score = silhouette_score(datax, labels)\n",
    "print(f\"轮廓系数: {score:.2f}\")   #介于【-1，1】之间，越趋近于1说明分类特征越明显"
   ]
  },
  {
   "cell_type": "markdown",
   "id": "79dd31c5-bd4f-4ac1-a3ab-9924e25fb93b",
   "metadata": {},
   "source": [
    "分析结果：三种鸢尾花在萼片长度、萼片宽度、花瓣长度、花瓣宽度这四个特征上面具有明显的差异，主要分为两类。"
   ]
  }
 ],
 "metadata": {
  "kernelspec": {
   "display_name": "Python 3 (ipykernel)",
   "language": "python",
   "name": "python3"
  },
  "language_info": {
   "codemirror_mode": {
    "name": "ipython",
    "version": 3
   },
   "file_extension": ".py",
   "mimetype": "text/x-python",
   "name": "python",
   "nbconvert_exporter": "python",
   "pygments_lexer": "ipython3",
   "version": "3.12.3"
  }
 },
 "nbformat": 4,
 "nbformat_minor": 5
}
