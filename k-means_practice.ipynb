{
 "cells": [
  {
   "cell_type": "code",
   "execution_count": null,
   "id": "96566add-17cf-458e-bfc6-d2b03c44a5b4",
   "metadata": {},
   "outputs": [],
   "source": []
  }
 ],
 "metadata": {
  "kernelspec": {
   "display_name": "",
   "name": ""
  },
  "language_info": {
   "name": ""
  }
 },
 "nbformat": 4,
 "nbformat_minor": 5
}
